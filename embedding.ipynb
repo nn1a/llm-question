{
 "cells": [
  {
   "cell_type": "code",
   "execution_count": 1,
   "metadata": {},
   "outputs": [],
   "source": [
    "from langchain_community.vectorstores import FAISS\n",
    "from langchain_huggingface import HuggingFaceEmbeddings"
   ]
  },
  {
   "cell_type": "code",
   "execution_count": 2,
   "metadata": {},
   "outputs": [],
   "source": [
    "def load_vectorstore(vectorstore_path, embeddings):\n",
    "    \"\"\"\n",
    "    Loads a saved FAISS vectorstore with the required embeddings.\n",
    "    Args:\n",
    "        vectorstore_path (str): Path to the saved FAISS vectorstore\n",
    "        embeddings: Embedding model to use for loading the vectorstore\n",
    "    Returns:\n",
    "        FAISS: Loaded FAISS vectorstore object\n",
    "    \"\"\"\n",
    "    print(f\"Loading vectorstore from: {vectorstore_path}\")\n",
    "    return FAISS.load_local(\n",
    "        vectorstore_path, embeddings, allow_dangerous_deserialization=True\n",
    "    )\n"
   ]
  },
  {
   "cell_type": "code",
   "execution_count": 3,
   "metadata": {},
   "outputs": [
    {
     "name": "stderr",
     "output_type": "stream",
     "text": [
      "/home/meakd/llm-question/venv/lib/python3.10/site-packages/tqdm/auto.py:21: TqdmWarning: IProgress not found. Please update jupyter and ipywidgets. See https://ipywidgets.readthedocs.io/en/stable/user_install.html\n",
      "  from .autonotebook import tqdm as notebook_tqdm\n"
     ]
    }
   ],
   "source": [
    "\n",
    "model_name = \"intfloat/multilingual-e5-large-instruct\"\n",
    "vectorstore_path = \"vectorstore\"\n",
    "\n",
    "# Initialize embeddings model\n",
    "embeddings = HuggingFaceEmbeddings(\n",
    "    model_name=model_name,\n",
    "    model_kwargs={\"device\": \"cpu\"},\n",
    "    encode_kwargs={\"normalize_embeddings\": True},\n",
    ")"
   ]
  },
  {
   "cell_type": "code",
   "execution_count": 4,
   "metadata": {},
   "outputs": [
    {
     "name": "stdout",
     "output_type": "stream",
     "text": [
      "Loading vectorstore from: vectorstore\n"
     ]
    }
   ],
   "source": [
    "vectorstore = load_vectorstore(vectorstore_path, embeddings)"
   ]
  },
  {
   "cell_type": "code",
   "execution_count": 5,
   "metadata": {},
   "outputs": [
    {
     "data": {
      "text/plain": [
       "[Document(metadata={'source': './tizen-docs/docs/platform/reference/gbs/gbs-reference.md'}, page_content='# GBS Reference\\n\\nTo manage GBS operations, use the following GBS subcommands:'),\n",
       " Document(metadata={'source': './tizen-docs/docs/platform/reference/gbs/gbs-overview.md'}, page_content='- [GBS Configuration](gbs.conf.md) describes how to modify the GBS configuration.\\n- [GBS Reference](gbs-reference.md) describes, in more detail, how to use GBS.\\n- [GBS Frequently Asked Questions](gbs-faq.md) describes frequently asked questions.\\n\\n## Source code\\n\\nThe source code is tracked in the [https://github.com/01org/gbs](https://github.com/01org/gbs) repository.'),\n",
       " Document(metadata={'source': './tizen-docs/docs/platform/reference/gbs/gbs-reference.md'}, page_content='To access GBS help:\\n\\n- For global options and the command list:\\n\\n  ```\\n  $ gbs  -h | --help\\n  ```\\n\\n- For each sub-command:\\n\\n  ```\\n  $ gbs <sub-command> --help\\n  ```'),\n",
       " Document(metadata={'source': './tizen-docs/docs/application/tizen-studio/native-tools/metadata-element.md'}, page_content='TTS\"/>`                                                                                   |')]"
      ]
     },
     "execution_count": 5,
     "metadata": {},
     "output_type": "execute_result"
    }
   ],
   "source": [
    "docs = vectorstore.similarity_search(\"gbs 사용법 알려줘줘\")\n",
    "docs"
   ]
  },
  {
   "cell_type": "code",
   "execution_count": 6,
   "metadata": {},
   "outputs": [
    {
     "data": {
      "text/markdown": [
       "# GBS Reference\n",
       "\n",
       "To manage GBS operations, use the following GBS subcommands:"
      ],
      "text/plain": [
       "<IPython.core.display.Markdown object>"
      ]
     },
     "metadata": {},
     "output_type": "display_data"
    },
    {
     "data": {
      "text/markdown": [
       "- [GBS Configuration](gbs.conf.md) describes how to modify the GBS configuration.\n",
       "- [GBS Reference](gbs-reference.md) describes, in more detail, how to use GBS.\n",
       "- [GBS Frequently Asked Questions](gbs-faq.md) describes frequently asked questions.\n",
       "\n",
       "## Source code\n",
       "\n",
       "The source code is tracked in the [https://github.com/01org/gbs](https://github.com/01org/gbs) repository."
      ],
      "text/plain": [
       "<IPython.core.display.Markdown object>"
      ]
     },
     "metadata": {},
     "output_type": "display_data"
    },
    {
     "data": {
      "text/markdown": [
       "To access GBS help:\n",
       "\n",
       "- For global options and the command list:\n",
       "\n",
       "  ```\n",
       "  $ gbs  -h | --help\n",
       "  ```\n",
       "\n",
       "- For each sub-command:\n",
       "\n",
       "  ```\n",
       "  $ gbs <sub-command> --help\n",
       "  ```"
      ],
      "text/plain": [
       "<IPython.core.display.Markdown object>"
      ]
     },
     "metadata": {},
     "output_type": "display_data"
    },
    {
     "data": {
      "text/markdown": [
       "TTS\"/>`                                                                                   |"
      ],
      "text/plain": [
       "<IPython.core.display.Markdown object>"
      ]
     },
     "metadata": {},
     "output_type": "display_data"
    }
   ],
   "source": [
    "from IPython.display import display, Markdown\n",
    "\n",
    "for doc in docs:\n",
    "    display(Markdown(doc.page_content))"
   ]
  }
 ],
 "metadata": {
  "kernelspec": {
   "display_name": "venv",
   "language": "python",
   "name": "python3"
  },
  "language_info": {
   "codemirror_mode": {
    "name": "ipython",
    "version": 3
   },
   "file_extension": ".py",
   "mimetype": "text/x-python",
   "name": "python",
   "nbconvert_exporter": "python",
   "pygments_lexer": "ipython3",
   "version": "3.10.12"
  }
 },
 "nbformat": 4,
 "nbformat_minor": 2
}
